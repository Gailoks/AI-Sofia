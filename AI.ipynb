{
 "cells": [
  {
   "cell_type": "code",
   "execution_count": 1,
   "metadata": {},
   "outputs": [],
   "source": [
    "import torch\n",
    "import torch.nn as nn\n",
    "import torch.nn.functional as F\n",
    "from collections import Counter\n",
    "import random\n",
    "import numpy as np\n",
    "device = torch.device(\"cuda\" if torch.cuda.is_available() else \"cpu\")\n",
    "VOCAB_SIZE = 1200\n",
    "DEFAULT_END = \"_end\"\n",
    "DEFAULT_PASS =\" \"\n",
    "DEFAULT_UNK =''"
   ]
  },
  {
   "attachments": {},
   "cell_type": "markdown",
   "metadata": {},
   "source": [
    "разбивка текста и создание словаря"
   ]
  },
  {
   "cell_type": "code",
   "execution_count": 2,
   "metadata": {},
   "outputs": [],
   "source": [
    "from Tokenizer import Tokenizer\n",
    "text = open(r\"D:\\Projects\\RnnTextGen\\text.txt\",encoding=\"utf-8\").read().lower()\n",
    "words = text.split()\n",
    "questions = text.splitlines()[::2]\n",
    "answers = text.splitlines()[1::2]\n",
    "tokenizer = Tokenizer(VOCAB_SIZE)\n",
    "tokenizer.fit([text],DEFAULT_END,DEFAULT_UNK)"
   ]
  },
  {
   "attachments": {},
   "cell_type": "markdown",
   "metadata": {},
   "source": [
    "создание модели \n",
    "предложение -> hidden\n",
    "последние слово + hidden -> слово(1)...слово(n)"
   ]
  },
  {
   "cell_type": "code",
   "execution_count": 3,
   "metadata": {},
   "outputs": [],
   "source": [
    "class RnnTextGen(nn.Module):\n",
    "\n",
    "    def __init__(self,voc_size,inp_size,hid_size,n_layers,dropout=0.2) -> None:\n",
    "        super(RnnTextGen,self).__init__()\n",
    "        self.voc_size = voc_size\n",
    "        self.n_layers = n_layers\n",
    "        self.hidden_size=hid_size\n",
    "        self.Encoder = nn.Embedding(voc_size,inp_size)\n",
    "        self.lstm = nn.LSTM(inp_size,hid_size,n_layers)\n",
    "        self.dropout = nn.Dropout(dropout)\n",
    "        self.l1 = nn.Linear(hid_size,voc_size)\n",
    "        \n",
    "    def forward(self,x,hidden=None):\n",
    "        x = self.Encoder(x)\n",
    "        x,hidden = self.lstm(x)\n",
    "        x = self.dropout(x)\n",
    "        x = self.l1(x)\n",
    "        return x,hidden\n",
    "    \n",
    "    def init_hidden(self,batch_size=1):\n",
    "        return (torch.zeros(self.n_layers, batch_size, self.hidden_size, requires_grad=True).to(device),\n",
    "               torch.zeros(self.n_layers, batch_size, self.hidden_size, requires_grad=True).to(device))"
   ]
  },
  {
   "cell_type": "code",
   "execution_count": 4,
   "metadata": {},
   "outputs": [],
   "source": [
    "model=RnnTextGen(VOCAB_SIZE,1000,500,2).to(device)\n",
    "criterion = nn.CrossEntropyLoss()\n",
    "optimizer = torch.optim.Adam(model.parameters(), lr=1e-2, amsgrad=True)\n",
    "scheduler = torch.optim.lr_scheduler.ReduceLROnPlateau(\n",
    "    optimizer, \n",
    "    patience=5, \n",
    "    verbose=True, \n",
    "    factor=0.5\n",
    ")\n"
   ]
  },
  {
   "cell_type": "code",
   "execution_count": 5,
   "metadata": {},
   "outputs": [],
   "source": [
    "def evaluate(model:RnnTextGen,text:str,prediction_lim:int=15):\n",
    "    text_idx = torch.LongTensor(list(tokenizer.tokenize(text))).to(device)\n",
    "    hidden = model.init_hidden()\n",
    "    inp = text_idx\n",
    "    predicted_text=\"\"\n",
    "    for i in range(prediction_lim):\n",
    "        next_w , hidden = model(inp.view(-1,1).to(device),hidden)\n",
    "        inp = torch.cat([inp,next_w[-1].argmax().view(-1)])\n",
    "        word = tokenizer.rw_tokens[int(next_w[-1].argmax())]\n",
    "        if next_w[-1].argmax() == torch.LongTensor([0]).to(device):\n",
    "            break\n",
    "        predicted_text +=word\n",
    "    return predicted_text"
   ]
  },
  {
   "cell_type": "code",
   "execution_count": 6,
   "metadata": {},
   "outputs": [],
   "source": [
    "def get_batch(questions:list,answers:list):\n",
    "    for question,answer in zip(questions,answers):\n",
    "        question_idx = list(tokenizer.tokenize(question))\n",
    "        target = list(tokenizer.tokenize(answer))+[0]\n",
    "        test = question_idx+target[:-1]\n",
    "\n",
    "        target =torch.LongTensor(target).to(device)\n",
    "        test = torch.LongTensor(test).to(device)\n",
    "        yield target,test"
   ]
  },
  {
   "cell_type": "code",
   "execution_count": 7,
   "metadata": {},
   "outputs": [],
   "source": [
    "def train(epoches:int,model:RnnTextGen,batch_size:int)->None:\n",
    "    \"\"\"epoches - number of epoches through all dataset\n",
    "    model - model required to teach\n",
    "    batch_size - n/a\"\"\"\n",
    "    loss_avg =[]\n",
    "    for epoch in range(epoches):\n",
    "        for target,train in get_batch(questions,answers):\n",
    "            model.train()\n",
    "\n",
    "            hidden = model.init_hidden(batch_size)\n",
    "\n",
    "            output,hidden = model(train,hidden)\n",
    "            target_len = len(target)\n",
    "            loss = criterion(output[-target_len:],target)\n",
    "\n",
    "            loss.backward()\n",
    "            optimizer.step()\n",
    "            optimizer.zero_grad()\n",
    "\n",
    "            loss_avg.append(loss.item())\n",
    "            if len(loss_avg) >= 50:\n",
    "                mean_loss = np.mean(loss_avg)\n",
    "                print(f'Loss: {mean_loss}')\n",
    "                scheduler.step(mean_loss)\n",
    "                model.eval()\n",
    "                question = random.choice(questions)\n",
    "                answer = evaluate(model,question)\n",
    "                print(f\"Question: {question} \\n Answer: {answer}\")\n",
    "                loss_avg = []"
   ]
  },
  {
   "attachments": {},
   "cell_type": "markdown",
   "metadata": {},
   "source": [
    "обучение модели"
   ]
  },
  {
   "cell_type": "code",
   "execution_count": 8,
   "metadata": {},
   "outputs": [
    {
     "name": "stdout",
     "output_type": "stream",
     "text": [
      "Loss: 6.530972471237183\n",
      "Question: что делаешь? \n",
      " Answer: \n",
      "Loss: 5.636422753334045\n",
      "Question: какие книги тебе нравятся? \n",
      " Answer: мой любимый й  а у тебя?\n",
      "Loss: 5.25727108001709\n",
      "Question: как выбрать подходящую профессию? \n",
      " Answer: привет \n",
      "Loss: 4.431213009357452\n",
      "Question: можно ли верить в бога, если нет научных доказательств его существования? \n",
      " Answer: мы можем достичь жно, но я думаю, что наш\n",
      "Loss: 3.559097751379013\n",
      "Question: как дела у синего? \n",
      " Answer: мой любимый звди. а ты?\n",
      "Loss: 3.5477519047260286\n",
      "Question: можно ли верить в бога, если нет научных доказательств его существования? \n",
      " Answer: \n",
      "Loss: 3.1227800858020784\n",
      "Question: существует ли свободная воля? \n",
      " Answer: я думаю, что человеку\n",
      "Loss: 2.165823932290077\n",
      "Question: какой твой любимый домашний питомец? \n",
      " Answer: мой любимый зверь - тигр. а у тебя\n",
      "Loss: 2.3376454970240594\n",
      "Question: как выбрать подходящую профессию? \n",
      " Answer: скита\n",
      "Loss: 1.911658907197416\n",
      "Question: кто ты? \n",
      " Answer: в на т ут помочь нам определить, что чело\n",
      "Loss: 1.2186301121115684\n",
      "Question: я написал \n",
      " Answer: пись\n",
      "Loss: 1.2585974997282028\n",
      "Question: но как мы можем получить практический опыт? \n",
      " Answer: можно получить практический опыт, участвуя в ст\n",
      "Loss: 0.779170365985483\n",
      "Question: как ты провел выходные? \n",
      " Answer: я провел выходные с друзьями на при\n",
      "Loss: 0.48921768064145\n",
      "Question: какова цель нашей жизни? \n",
      " Answer: \n"
     ]
    }
   ],
   "source": [
    "train(10,model,1)"
   ]
  },
  {
   "cell_type": "code",
   "execution_count": 9,
   "metadata": {},
   "outputs": [
    {
     "data": {
      "text/plain": [
       "', такие как онлайн-курсы, вебининары и мобиональных качества жизни.'"
      ]
     },
     "execution_count": 9,
     "metadata": {},
     "output_type": "execute_result"
    }
   ],
   "source": [
    "quest = input()\n",
    "evaluate(model,quest,35)"
   ]
  },
  {
   "cell_type": "code",
   "execution_count": 10,
   "metadata": {},
   "outputs": [],
   "source": [
    "torch.save(model,\"data.pkl\")"
   ]
  },
  {
   "cell_type": "code",
   "execution_count": 11,
   "metadata": {},
   "outputs": [],
   "source": [
    "model = torch.load(\"data.pkl\").to(device)"
   ]
  }
 ],
 "metadata": {
  "kernelspec": {
   "display_name": "Python 3",
   "language": "python",
   "name": "python3"
  },
  "language_info": {
   "codemirror_mode": {
    "name": "ipython",
    "version": 3
   },
   "file_extension": ".py",
   "mimetype": "text/x-python",
   "name": "python",
   "nbconvert_exporter": "python",
   "pygments_lexer": "ipython3",
   "version": "3.11.3"
  },
  "orig_nbformat": 4
 },
 "nbformat": 4,
 "nbformat_minor": 2
}
