{
 "cells": [
  {
   "cell_type": "code",
   "execution_count": 19,
   "metadata": {},
   "outputs": [],
   "source": [
    "import torch\n",
    "import torch.nn as nn\n",
    "import random\n",
    "import numpy as np\n",
    "import Tokenizer as tk\n",
    "device = \"cpu\"#torch.device(\"cuda\" if torch.cuda.is_available() else \"cpu\")\n",
    "VOCAB_SIZE = 1201"
   ]
  },
  {
   "attachments": {},
   "cell_type": "markdown",
   "metadata": {},
   "source": [
    "разбивка текста и создание словаря"
   ]
  },
  {
   "cell_type": "code",
   "execution_count": 20,
   "metadata": {},
   "outputs": [],
   "source": [
    "import os\n",
    "\n",
    "samples = []\n",
    "for sample in os.listdir('samples'):\n",
    "    with open(\"samples/\" + sample, encoding=\"utf-8\") as text:\n",
    "        samples.append(text.read().lower())\n",
    "\n",
    "\n",
    "class QAPair:\n",
    "    def __init__(self, question, answer):\n",
    "        self.question = question\n",
    "        self.answer = answer\n",
    "\n",
    "dataset = []\n",
    "\n",
    "for sample in samples:\n",
    "    lines = sample.splitlines()\n",
    "    questions = lines[::2]\n",
    "    answers = lines[1::2]\n",
    "    for q, a in zip(questions, answers):\n",
    "        dataset.append(QAPair(q, a))\n"
   ]
  },
  {
   "cell_type": "code",
   "execution_count": 21,
   "metadata": {},
   "outputs": [],
   "source": [
    "tdg = tk.TokenDictionaryGenerator(vocabulary_size = VOCAB_SIZE-1)\n",
    "tokens = tdg.generate_tokens(samples)\n",
    "tokenizer = tk.Tokenizer(tokens)\n",
    "tokens.save(\"tokens.json\")"
   ]
  },
  {
   "cell_type": "code",
   "execution_count": null,
   "metadata": {},
   "outputs": [],
   "source": []
  },
  {
   "attachments": {},
   "cell_type": "markdown",
   "metadata": {},
   "source": [
    "создание модели \n",
    "предложение -> hidden\n",
    "последние слово + hidden -> слово(1)...слово(n)"
   ]
  },
  {
   "cell_type": "code",
   "execution_count": 22,
   "metadata": {},
   "outputs": [],
   "source": [
    "class RnnTextGen(nn.Module):\n",
    "\n",
    "    def __init__(self,input_size,inp_lstm_size,hid_size,n_layers,out_size,dropout=0.2) -> None:\n",
    "        super(RnnTextGen,self).__init__()\n",
    "        self.input_size = input_size\n",
    "        self.n_layers = n_layers\n",
    "        self.hidden_size=hid_size\n",
    "        self.Encoder = nn.Embedding(input_size,inp_lstm_size)\n",
    "        self.lstm = nn.LSTM(inp_lstm_size,hid_size,n_layers)\n",
    "        self.dropout = nn.Dropout(dropout)\n",
    "        self.l1 = nn.Linear(hid_size,out_size)\n",
    "        \n",
    "    def forward(self,x,hidden=None):\n",
    "        x = self.Encoder(x)\n",
    "        x,hidden = self.lstm(x)\n",
    "        x = self.dropout(x)\n",
    "        x = self.l1(x)\n",
    "        return x,hidden\n",
    "    \n",
    "    def init_hidden(self,batch_size=1):\n",
    "        return (torch.zeros(self.n_layers, batch_size, self.hidden_size, requires_grad=True).to(device),\n",
    "               torch.zeros(self.n_layers, batch_size, self.hidden_size, requires_grad=True).to(device))"
   ]
  },
  {
   "cell_type": "code",
   "execution_count": 23,
   "metadata": {},
   "outputs": [],
   "source": [
    "model=RnnTextGen(VOCAB_SIZE,1000,500,2,VOCAB_SIZE).to(device)\n",
    "criterion = nn.CrossEntropyLoss()\n",
    "optimizer = torch.optim.Adam(model.parameters(), lr=1e-2, amsgrad=True)\n",
    "scheduler = torch.optim.lr_scheduler.ReduceLROnPlateau(\n",
    "    optimizer, \n",
    "    patience=5, \n",
    "    verbose=True, \n",
    "    factor=0.5\n",
    ")"
   ]
  },
  {
   "cell_type": "code",
   "execution_count": 24,
   "metadata": {},
   "outputs": [],
   "source": [
    "def evaluate(model:RnnTextGen,text:str,prediction_lim:int=15):\n",
    "    text_idx = torch.LongTensor(list(tokenizer.tokenize(text))).to(device)\n",
    "    hidden = model.init_hidden()\n",
    "    inp = text_idx\n",
    "    predicted_text=\"\"\n",
    "    for i in range(prediction_lim):\n",
    "        next_w , hidden = model(inp.view(-1,1).to(device),hidden)\n",
    "        inp = torch.cat([inp,next_w[-1].argmax().view(-1)])\n",
    "        if next_w[-1].argmax() == torch.LongTensor([VOCAB_SIZE-1]).to(device):\n",
    "            break\n",
    "        word = tokens.decode(int(next_w[-1].argmax()))\n",
    "        predicted_text +=word\n",
    "    return predicted_text"
   ]
  },
  {
   "cell_type": "code",
   "execution_count": 25,
   "metadata": {},
   "outputs": [],
   "source": [
    "def get_batch(dataset:list):\n",
    "    for qa in dataset:\n",
    "        question_idx = list(tokenizer.tokenize(qa.question))\n",
    "        target = list(tokenizer.tokenize(qa.answer))+[tokens.count()]\n",
    "        test = question_idx+target[:-1]\n",
    "\n",
    "        target =torch.LongTensor(target).to(device)\n",
    "        test = torch.LongTensor(test).to(device)\n",
    "        yield target,test"
   ]
  },
  {
   "cell_type": "code",
   "execution_count": 26,
   "metadata": {},
   "outputs": [],
   "source": [
    "def train(epoches:int,model:RnnTextGen,batch_size:int)->None:\n",
    "    \"\"\"epoches - number of epoches through all dataset\n",
    "    model - model required to teach\n",
    "    batch_size - n/a\"\"\"\n",
    "    loss_avg =[]\n",
    "    for epoch in range(epoches):\n",
    "        for target,train in get_batch(dataset):\n",
    "            model.train()\n",
    "\n",
    "            hidden = model.init_hidden(batch_size)\n",
    "\n",
    "            output,hidden = model(train,hidden)\n",
    "            target_len = len(target)\n",
    "            loss = criterion(output[-target_len:],target)\n",
    "\n",
    "            loss.backward()\n",
    "            optimizer.step()\n",
    "            optimizer.zero_grad()\n",
    "\n",
    "            loss_avg.append(loss.item())\n",
    "            if len(loss_avg) >= 50:\n",
    "                mean_loss = np.mean(loss_avg)\n",
    "                print(f'Loss: {mean_loss}')\n",
    "                scheduler.step(mean_loss)\n",
    "                model.eval()\n",
    "                question = random.choice(dataset).question\n",
    "                answer = evaluate(model,question)\n",
    "                print(f\"Question: {question} \\n Answer: {answer}\")\n",
    "                loss_avg = []"
   ]
  },
  {
   "attachments": {},
   "cell_type": "markdown",
   "metadata": {},
   "source": [
    "обучение модели"
   ]
  },
  {
   "cell_type": "code",
   "execution_count": 27,
   "metadata": {},
   "outputs": [
    {
     "name": "stdout",
     "output_type": "stream",
     "text": [
      "Loss: 6.481576414108276\n",
      "Question: но как мы можем определить, что правильно, а что нет? \n",
      " Answer: \n",
      "Loss: 5.835963954925537\n",
      "Question: куда ты собираешься? \n",
      " Answer: мой любимый . а ты?\n",
      "Loss: 5.770610451698303\n",
      "Question: софия как ты считаешь как можно получить практический опыт? \n",
      " Answer: \n",
      "Loss: 4.908107271194458\n",
      "Question: и как мы можем достичь справедливости в обществе? \n",
      " Answer: я думаю, что наш выбзульссопределены.\n",
      "Loss: 4.598390336036682\n",
      "Question: как важен практический опыт в образовании? \n",
      " Answer: мой любимый зверь - й . а у тебя?\n",
      "Loss: 4.531934795379638\n",
      "Question: как называется животное, которое может менять цвет? \n",
      " Answer: ваный помочь человеку\n",
      "Loss: 3.6089592637121677\n",
      "Question: как важен практический опыт в образовании? \n",
      " Answer: я думаю, что человек может влиять на свою жизнь, но некоторые\n",
      "Loss: 2.7507587997615337\n",
      "Question: что делаешь? \n",
      " Answer: я читаю  - футбол. а ты?\n",
      "Loss: 2.8043147083371878\n",
      "Question: ты лох  \n",
      " Answer: я устал тратить на тебя время\n",
      "Loss: 2.3568826164864003\n",
      "Question: и как мы можем влиять на ход вселенной? \n",
      " Answer: мы можем достичь этой цели, даже если некоторые события \n",
      "Loss: 1.465408704727888\n",
      "Question: перечисли твои любимые цвета \n",
      " Answer: мои любимые цветамои любимые цветамои любим\n",
      "Loss: 1.3844450975954532\n",
      "Question: ты точна пылесосишь \n",
      " Answer: нет я сижу в тиктоке\n",
      "Loss: 1.004276872901246\n",
      "Question: но как мы можем получить практический опыт? \n",
      " Answer: мы можем достичь этой цели, находя свое призвание, учась и\n"
     ]
    },
    {
     "ename": "KeyboardInterrupt",
     "evalue": "",
     "output_type": "error",
     "traceback": [
      "\u001b[1;31m---------------------------------------------------------------------------\u001b[0m",
      "\u001b[1;31mKeyboardInterrupt\u001b[0m                         Traceback (most recent call last)",
      "Cell \u001b[1;32mIn[27], line 1\u001b[0m\n\u001b[1;32m----> 1\u001b[0m train(\u001b[39m30\u001b[39;49m, model, \u001b[39m1\u001b[39;49m)\n",
      "Cell \u001b[1;32mIn[26], line 16\u001b[0m, in \u001b[0;36mtrain\u001b[1;34m(epoches, model, batch_size)\u001b[0m\n\u001b[0;32m     13\u001b[0m target_len \u001b[39m=\u001b[39m \u001b[39mlen\u001b[39m(target)\n\u001b[0;32m     14\u001b[0m loss \u001b[39m=\u001b[39m criterion(output[\u001b[39m-\u001b[39mtarget_len:],target)\n\u001b[1;32m---> 16\u001b[0m loss\u001b[39m.\u001b[39;49mbackward()\n\u001b[0;32m     17\u001b[0m optimizer\u001b[39m.\u001b[39mstep()\n\u001b[0;32m     18\u001b[0m optimizer\u001b[39m.\u001b[39mzero_grad()\n",
      "File \u001b[1;32mc:\\Users\\Юрий\\AppData\\Local\\Programs\\Python\\Python311\\Lib\\site-packages\\torch\\_tensor.py:487\u001b[0m, in \u001b[0;36mTensor.backward\u001b[1;34m(self, gradient, retain_graph, create_graph, inputs)\u001b[0m\n\u001b[0;32m    477\u001b[0m \u001b[39mif\u001b[39;00m has_torch_function_unary(\u001b[39mself\u001b[39m):\n\u001b[0;32m    478\u001b[0m     \u001b[39mreturn\u001b[39;00m handle_torch_function(\n\u001b[0;32m    479\u001b[0m         Tensor\u001b[39m.\u001b[39mbackward,\n\u001b[0;32m    480\u001b[0m         (\u001b[39mself\u001b[39m,),\n\u001b[1;32m   (...)\u001b[0m\n\u001b[0;32m    485\u001b[0m         inputs\u001b[39m=\u001b[39minputs,\n\u001b[0;32m    486\u001b[0m     )\n\u001b[1;32m--> 487\u001b[0m torch\u001b[39m.\u001b[39;49mautograd\u001b[39m.\u001b[39;49mbackward(\n\u001b[0;32m    488\u001b[0m     \u001b[39mself\u001b[39;49m, gradient, retain_graph, create_graph, inputs\u001b[39m=\u001b[39;49minputs\n\u001b[0;32m    489\u001b[0m )\n",
      "File \u001b[1;32mc:\\Users\\Юрий\\AppData\\Local\\Programs\\Python\\Python311\\Lib\\site-packages\\torch\\autograd\\__init__.py:200\u001b[0m, in \u001b[0;36mbackward\u001b[1;34m(tensors, grad_tensors, retain_graph, create_graph, grad_variables, inputs)\u001b[0m\n\u001b[0;32m    195\u001b[0m     retain_graph \u001b[39m=\u001b[39m create_graph\n\u001b[0;32m    197\u001b[0m \u001b[39m# The reason we repeat same the comment below is that\u001b[39;00m\n\u001b[0;32m    198\u001b[0m \u001b[39m# some Python versions print out the first line of a multi-line function\u001b[39;00m\n\u001b[0;32m    199\u001b[0m \u001b[39m# calls in the traceback and some print out the last line\u001b[39;00m\n\u001b[1;32m--> 200\u001b[0m Variable\u001b[39m.\u001b[39;49m_execution_engine\u001b[39m.\u001b[39;49mrun_backward(  \u001b[39m# Calls into the C++ engine to run the backward pass\u001b[39;49;00m\n\u001b[0;32m    201\u001b[0m     tensors, grad_tensors_, retain_graph, create_graph, inputs,\n\u001b[0;32m    202\u001b[0m     allow_unreachable\u001b[39m=\u001b[39;49m\u001b[39mTrue\u001b[39;49;00m, accumulate_grad\u001b[39m=\u001b[39;49m\u001b[39mTrue\u001b[39;49;00m)\n",
      "\u001b[1;31mKeyboardInterrupt\u001b[0m: "
     ]
    }
   ],
   "source": [
    "train(30, model, 1)"
   ]
  },
  {
   "cell_type": "code",
   "execution_count": 29,
   "metadata": {},
   "outputs": [
    {
     "data": {
      "text/plain": [
       "'да так ничего'"
      ]
     },
     "execution_count": 29,
     "metadata": {},
     "output_type": "execute_result"
    }
   ],
   "source": [
    "quest = input().lower()\n",
    "evaluate(model,quest,35)"
   ]
  },
  {
   "cell_type": "code",
   "execution_count": null,
   "metadata": {},
   "outputs": [],
   "source": [
    "torch.save(model,\"data.pkl\")"
   ]
  },
  {
   "cell_type": "code",
   "execution_count": null,
   "metadata": {},
   "outputs": [],
   "source": [
    "model = torch.load(\"data.pkl\").to(device)"
   ]
  }
 ],
 "metadata": {
  "kernelspec": {
   "display_name": "Python 3",
   "language": "python",
   "name": "python3"
  },
  "language_info": {
   "codemirror_mode": {
    "name": "ipython",
    "version": 3
   },
   "file_extension": ".py",
   "mimetype": "text/x-python",
   "name": "python",
   "nbconvert_exporter": "python",
   "pygments_lexer": "ipython3",
   "version": "3.11.3"
  },
  "orig_nbformat": 4
 },
 "nbformat": 4,
 "nbformat_minor": 2
}
