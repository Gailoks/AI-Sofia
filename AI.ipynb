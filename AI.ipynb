{
 "cells": [
  {
   "cell_type": "code",
   "execution_count": 71,
   "metadata": {},
   "outputs": [],
   "source": [
    "import torch\n",
    "import torch.nn as nn\n",
    "import random\n",
    "import numpy as np\n",
    "import Tokens as tk\n",
    "device = torch.device(\"cuda\" if torch.cuda.is_available() else \"cpu\")\n",
    "VOCAB_SIZE = 1201"
   ]
  },
  {
   "attachments": {},
   "cell_type": "markdown",
   "metadata": {},
   "source": [
    "разбивка текста и создание словаря"
   ]
  },
  {
   "cell_type": "code",
   "execution_count": 72,
   "metadata": {},
   "outputs": [],
   "source": [
    "import os\n",
    "\n",
    "samples = []\n",
    "for sample in os.listdir('samples'):\n",
    "    with open(\"samples/\" + sample, encoding=\"utf-8\") as text:\n",
    "        samples.append(text.read().lower())\n",
    "\n",
    "\n",
    "class QAPair:\n",
    "    def __init__(self, question, answer):\n",
    "        self.question = question\n",
    "        self.answer = answer\n",
    "\n",
    "dataset = []\n",
    "\n",
    "for sample in samples:\n",
    "    lines = sample.splitlines()\n",
    "    questions = lines[::2]\n",
    "    answers = lines[1::2]\n",
    "    for q, a in zip(questions, answers):\n",
    "        dataset.append(QAPair(q, a))\n"
   ]
  },
  {
   "cell_type": "code",
   "execution_count": 73,
   "metadata": {},
   "outputs": [],
   "source": [
    "tdg = tk.TokenDictionaryGenerator(vocabulary_size = VOCAB_SIZE-1)\n",
    "tokens = tdg.generate_tokens(samples)\n",
    "tokenizer = tk.Tokenizer(tokens)\n",
    "tokens.save(\"tokens.json\")"
   ]
  },
  {
   "attachments": {},
   "cell_type": "markdown",
   "metadata": {},
   "source": [
    "создание модели \n",
    "предложение -> hidden\n",
    "последние слово + hidden -> слово(1)...слово(n)"
   ]
  },
  {
   "cell_type": "code",
   "execution_count": 74,
   "metadata": {},
   "outputs": [],
   "source": [
    "class RnnTextGen(nn.Module):\n",
    "\n",
    "    def __init__(self,input_size,inp_lstm_size,hid_size,n_layers,out_size,dropout=0.2) -> None:\n",
    "        super(RnnTextGen,self).__init__()\n",
    "        self.input_size = input_size\n",
    "        self.out_size = out_size\n",
    "        self.n_layers = n_layers\n",
    "        self.hidden_size=hid_size\n",
    "        self.Encoder = nn.Embedding(input_size,inp_lstm_size)\n",
    "        self.lstm = nn.LSTM(inp_lstm_size,hid_size,n_layers)\n",
    "        self.dropout = nn.Dropout(dropout)\n",
    "        self.l1 = nn.Linear(hid_size,out_size)\n",
    "        self.l2 = nn.Linear(inp_lstm_size,out_size)\n",
    "        self.attention = nn.MultiheadAttention(out_size,1)\n",
    "        \n",
    "    def forward(self,x,key,value,hidden=None):\n",
    "        x = self.Encoder(x)\n",
    "        p = self.l2(x)\n",
    "        aw,_ = self.attention(p.view(-1,self.out_size),key,value)#a - attn output b - attn_wheights)\n",
    "        x,hidden = self.lstm(x)\n",
    "        x = self.dropout(x)\n",
    "        x = self.l1(x)\n",
    "        x = x[-1]*aw[-1]\n",
    "        return x,hidden\n",
    "    \n",
    "    def init_hidden(self,batch_size=1):\n",
    "        return (torch.zeros(self.n_layers, batch_size, self.hidden_size, requires_grad=True).to(device),\n",
    "               torch.zeros(self.n_layers, batch_size, self.hidden_size, requires_grad=True).to(device))"
   ]
  },
  {
   "cell_type": "code",
   "execution_count": 75,
   "metadata": {},
   "outputs": [],
   "source": [
    "model=RnnTextGen(VOCAB_SIZE-1,1000,500,2,VOCAB_SIZE).to(device)\n",
    "key =torch.Tensor(VOCAB_SIZE).to(device).view(-1,VOCAB_SIZE)\n",
    "value = torch.Tensor(VOCAB_SIZE).to(device).view(-1,VOCAB_SIZE)\n",
    "criterion = nn.CrossEntropyLoss()\n",
    "optimizer = torch.optim.Adam(model.parameters(), lr=1e-2, amsgrad=True)\n",
    "scheduler = torch.optim.lr_scheduler.ReduceLROnPlateau(\n",
    "    optimizer, \n",
    "    patience=5, \n",
    "    verbose=True, \n",
    "    factor=0.5\n",
    ")"
   ]
  },
  {
   "cell_type": "code",
   "execution_count": 76,
   "metadata": {},
   "outputs": [],
   "source": [
    "def evaluate(model:RnnTextGen,text:str,prediction_lim:int=15):\n",
    "    text_idx = torch.LongTensor(list(tokenizer.tokenize(text))).to(device)\n",
    "    hidden = model.init_hidden()\n",
    "    inp = text_idx\n",
    "    predicted_text=\"\"\n",
    "    for i in range(prediction_lim):\n",
    "        next_w , hidden = model(inp.to(device),key,value,hidden)\n",
    "        inp = torch.cat([inp,next_w.argmax().view(-1)])\n",
    "        if next_w.argmax() == torch.LongTensor([VOCAB_SIZE-1]).to(device):\n",
    "            break\n",
    "        word = tokens.decode(int(next_w.argmax()))\n",
    "        predicted_text +=word\n",
    "    return predicted_text"
   ]
  },
  {
   "cell_type": "code",
   "execution_count": 77,
   "metadata": {},
   "outputs": [],
   "source": [
    "def get_batch(dataset:list):\n",
    "    for qa in dataset:\n",
    "        question_idx = list(tokenizer.tokenize(qa.question))\n",
    "        target = list(tokenizer.tokenize(qa.answer))+[tokens.count()]\n",
    "        test = question_idx+target[:-1]\n",
    "\n",
    "        target =torch.LongTensor(target).to(device)\n",
    "        test = torch.LongTensor(test).to(device)\n",
    "        yield target,test"
   ]
  },
  {
   "cell_type": "code",
   "execution_count": 78,
   "metadata": {},
   "outputs": [],
   "source": [
    "def train(epoches:int,model:RnnTextGen,batch_size:int)->None:\n",
    "    \"\"\"epoches - number of epoches through all dataset\n",
    "    model - model required to teach\n",
    "    batch_size - n/a\"\"\"\n",
    "\n",
    "    loss_avg =[]\n",
    "    for epoch in range(epoches):\n",
    "        for target,train in get_batch(dataset):\n",
    "            model.train()\n",
    "\n",
    "            hidden = model.init_hidden(batch_size)\n",
    "\n",
    "            output,hidden = model(train,key,value,hidden)\n",
    "            loss = criterion(output,target)\n",
    "\n",
    "            loss.backward()\n",
    "            optimizer.step()\n",
    "            optimizer.zero_grad()\n",
    "\n",
    "            loss_avg.append(loss.item())\n",
    "            if len(loss_avg) >= 50:\n",
    "                mean_loss = np.mean(loss_avg)\n",
    "                print(f'Loss: {mean_loss}')\n",
    "                scheduler.step(mean_loss)\n",
    "                model.eval()\n",
    "                question = random.choice(dataset).question\n",
    "                answer = evaluate(model,question)\n",
    "                print(f\"Question: {question} \\n Answer: {answer}\")\n",
    "                loss_avg = []"
   ]
  },
  {
   "attachments": {},
   "cell_type": "markdown",
   "metadata": {},
   "source": [
    "обучение модели"
   ]
  },
  {
   "cell_type": "code",
   "execution_count": 79,
   "metadata": {},
   "outputs": [
    {
     "ename": "RuntimeError",
     "evalue": "Expected floating point type for target with class probabilities, got Long",
     "output_type": "error",
     "traceback": [
      "\u001b[1;31m---------------------------------------------------------------------------\u001b[0m",
      "\u001b[1;31mRuntimeError\u001b[0m                              Traceback (most recent call last)",
      "Cell \u001b[1;32mIn[79], line 1\u001b[0m\n\u001b[1;32m----> 1\u001b[0m train(\u001b[39m30\u001b[39;49m, model, \u001b[39m1\u001b[39;49m)\n",
      "Cell \u001b[1;32mIn[78], line 15\u001b[0m, in \u001b[0;36mtrain\u001b[1;34m(epoches, model, batch_size)\u001b[0m\n\u001b[0;32m     13\u001b[0m output,hidden \u001b[39m=\u001b[39m model(train,key,value,hidden)\n\u001b[0;32m     14\u001b[0m target_len \u001b[39m=\u001b[39m \u001b[39mlen\u001b[39m(target)\n\u001b[1;32m---> 15\u001b[0m loss \u001b[39m=\u001b[39m criterion(output[\u001b[39m-\u001b[39;49mtarget_len:],target)\n\u001b[0;32m     17\u001b[0m loss\u001b[39m.\u001b[39mbackward()\n\u001b[0;32m     18\u001b[0m optimizer\u001b[39m.\u001b[39mstep()\n",
      "File \u001b[1;32mc:\\Users\\Юрий\\AppData\\Local\\Programs\\Python\\Python311\\Lib\\site-packages\\torch\\nn\\modules\\module.py:1501\u001b[0m, in \u001b[0;36mModule._call_impl\u001b[1;34m(self, *args, **kwargs)\u001b[0m\n\u001b[0;32m   1496\u001b[0m \u001b[39m# If we don't have any hooks, we want to skip the rest of the logic in\u001b[39;00m\n\u001b[0;32m   1497\u001b[0m \u001b[39m# this function, and just call forward.\u001b[39;00m\n\u001b[0;32m   1498\u001b[0m \u001b[39mif\u001b[39;00m \u001b[39mnot\u001b[39;00m (\u001b[39mself\u001b[39m\u001b[39m.\u001b[39m_backward_hooks \u001b[39mor\u001b[39;00m \u001b[39mself\u001b[39m\u001b[39m.\u001b[39m_backward_pre_hooks \u001b[39mor\u001b[39;00m \u001b[39mself\u001b[39m\u001b[39m.\u001b[39m_forward_hooks \u001b[39mor\u001b[39;00m \u001b[39mself\u001b[39m\u001b[39m.\u001b[39m_forward_pre_hooks\n\u001b[0;32m   1499\u001b[0m         \u001b[39mor\u001b[39;00m _global_backward_pre_hooks \u001b[39mor\u001b[39;00m _global_backward_hooks\n\u001b[0;32m   1500\u001b[0m         \u001b[39mor\u001b[39;00m _global_forward_hooks \u001b[39mor\u001b[39;00m _global_forward_pre_hooks):\n\u001b[1;32m-> 1501\u001b[0m     \u001b[39mreturn\u001b[39;00m forward_call(\u001b[39m*\u001b[39;49margs, \u001b[39m*\u001b[39;49m\u001b[39m*\u001b[39;49mkwargs)\n\u001b[0;32m   1502\u001b[0m \u001b[39m# Do not call functions when jit is used\u001b[39;00m\n\u001b[0;32m   1503\u001b[0m full_backward_hooks, non_full_backward_hooks \u001b[39m=\u001b[39m [], []\n",
      "File \u001b[1;32mc:\\Users\\Юрий\\AppData\\Local\\Programs\\Python\\Python311\\Lib\\site-packages\\torch\\nn\\modules\\loss.py:1174\u001b[0m, in \u001b[0;36mCrossEntropyLoss.forward\u001b[1;34m(self, input, target)\u001b[0m\n\u001b[0;32m   1173\u001b[0m \u001b[39mdef\u001b[39;00m \u001b[39mforward\u001b[39m(\u001b[39mself\u001b[39m, \u001b[39minput\u001b[39m: Tensor, target: Tensor) \u001b[39m-\u001b[39m\u001b[39m>\u001b[39m Tensor:\n\u001b[1;32m-> 1174\u001b[0m     \u001b[39mreturn\u001b[39;00m F\u001b[39m.\u001b[39;49mcross_entropy(\u001b[39minput\u001b[39;49m, target, weight\u001b[39m=\u001b[39;49m\u001b[39mself\u001b[39;49m\u001b[39m.\u001b[39;49mweight,\n\u001b[0;32m   1175\u001b[0m                            ignore_index\u001b[39m=\u001b[39;49m\u001b[39mself\u001b[39;49m\u001b[39m.\u001b[39;49mignore_index, reduction\u001b[39m=\u001b[39;49m\u001b[39mself\u001b[39;49m\u001b[39m.\u001b[39;49mreduction,\n\u001b[0;32m   1176\u001b[0m                            label_smoothing\u001b[39m=\u001b[39;49m\u001b[39mself\u001b[39;49m\u001b[39m.\u001b[39;49mlabel_smoothing)\n",
      "File \u001b[1;32mc:\\Users\\Юрий\\AppData\\Local\\Programs\\Python\\Python311\\Lib\\site-packages\\torch\\nn\\functional.py:3029\u001b[0m, in \u001b[0;36mcross_entropy\u001b[1;34m(input, target, weight, size_average, ignore_index, reduce, reduction, label_smoothing)\u001b[0m\n\u001b[0;32m   3027\u001b[0m \u001b[39mif\u001b[39;00m size_average \u001b[39mis\u001b[39;00m \u001b[39mnot\u001b[39;00m \u001b[39mNone\u001b[39;00m \u001b[39mor\u001b[39;00m reduce \u001b[39mis\u001b[39;00m \u001b[39mnot\u001b[39;00m \u001b[39mNone\u001b[39;00m:\n\u001b[0;32m   3028\u001b[0m     reduction \u001b[39m=\u001b[39m _Reduction\u001b[39m.\u001b[39mlegacy_get_string(size_average, reduce)\n\u001b[1;32m-> 3029\u001b[0m \u001b[39mreturn\u001b[39;00m torch\u001b[39m.\u001b[39;49m_C\u001b[39m.\u001b[39;49m_nn\u001b[39m.\u001b[39;49mcross_entropy_loss(\u001b[39minput\u001b[39;49m, target, weight, _Reduction\u001b[39m.\u001b[39;49mget_enum(reduction), ignore_index, label_smoothing)\n",
      "\u001b[1;31mRuntimeError\u001b[0m: Expected floating point type for target with class probabilities, got Long"
     ]
    }
   ],
   "source": [
    "train(30, model, 1)"
   ]
  },
  {
   "cell_type": "code",
   "execution_count": 80,
   "metadata": {},
   "outputs": [
    {
     "data": {
      "text/plain": [
       "'удовлетворенностиудовлетворенностиудовлетворенностиудовлетворенностиудовлетворенностиудовлетворенностиудовлетворенностиудовлетворенностиудовлетворенностиудовлетворенностиудовлетворенностиудовлетворенностиудовлетворенностиудовлетворенностиудовлетворенностиудовлетворенностиудовлетворенностиудовлетворенностиудовлетворенностиудовлетворенностиудовлетворенностиудовлетворенностиудовлетворенностиудовлетворенностиудовлетворенностиудовлетворенностиудовлетворенностиудовлетворенностиудовлетворенностиудовлетворенностиудовлетворенностиудовлетворенностиудовлетворенностиудовлетворенностиудовлетворенности'"
      ]
     },
     "execution_count": 80,
     "metadata": {},
     "output_type": "execute_result"
    }
   ],
   "source": [
    "quest = input().lower()\n",
    "evaluate(model,quest,35)"
   ]
  },
  {
   "cell_type": "code",
   "execution_count": null,
   "metadata": {},
   "outputs": [],
   "source": [
    "torch.save(model,\"data.pkl\")"
   ]
  },
  {
   "cell_type": "code",
   "execution_count": null,
   "metadata": {},
   "outputs": [],
   "source": [
    "model = torch.load(\"data.pkl\").to(device)"
   ]
  },
  {
   "cell_type": "code",
   "execution_count": null,
   "metadata": {},
   "outputs": [
    {
     "data": {
      "text/plain": [
       "tensor([ 3.4077e-04, -3.7418e-03,  3.2053e-03,  ...,  1.3814e-03,\n",
       "         6.1889e-05,  3.8469e-04], device='cuda:0', grad_fn=<MulBackward0>)"
      ]
     },
     "execution_count": 70,
     "metadata": {},
     "output_type": "execute_result"
    }
   ],
   "source": [
    "import torch \n",
    "import torch.nn as nn\n",
    "\n",
    "class abracadabra(nn.Module):\n",
    "    def __init__(self,size):\n",
    "        super(abracadabra,self).__init__()\n",
    "        self.size = size\n",
    "\n",
    "        self.embeding = nn.Embedding(size,10)\n",
    "        self.l1 = nn.Linear(10,size)\n",
    "        self.attention = nn.MultiheadAttention(size,1)\n",
    "        self.lstm = nn.LSTM(size,10,2)\n",
    "        self.l2 = nn.Linear(10,size)\n",
    "        \n",
    "        \n",
    "    def forward(self,x,k,v,hidden=None):\n",
    "        x = self.embeding(x)\n",
    "        x = self.l1(x)\n",
    "        a,b = self.attention(x.view(-1,self.size),k.view(-1,self.size),v.view(-1,self.size))#a - attn output b - attn_wheights\n",
    "        out,hidden = self.lstm(x,hidden)\n",
    "        out = self.l2(out)\n",
    "        sumt = a[-1]*out[-1]\n",
    "        return sumt\n",
    "    \n",
    "model = abracadabra(VOCAB_SIZE).to(device)\n",
    "x=torch.LongTensor([1,2,3,4,5]).to(device)\n",
    "model(x,key,value)"
   ]
  }
 ],
 "metadata": {
  "kernelspec": {
   "display_name": "Python 3",
   "language": "python",
   "name": "python3"
  },
  "language_info": {
   "codemirror_mode": {
    "name": "ipython",
    "version": 3
   },
   "file_extension": ".py",
   "mimetype": "text/x-python",
   "name": "python",
   "nbconvert_exporter": "python",
   "pygments_lexer": "ipython3",
   "version": "3.11.3"
  },
  "orig_nbformat": 4
 },
 "nbformat": 4,
 "nbformat_minor": 2
}
