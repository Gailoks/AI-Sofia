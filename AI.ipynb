{
 "cells": [
  {
   "cell_type": "code",
   "execution_count": null,
   "metadata": {},
   "outputs": [],
   "source": [
    "import torch\n",
    "import torch.nn as nn\n",
    "import random\n",
    "import numpy as np\n",
    "import Tokenizer as tk\n",
    "device = torch.device(\"cuda\" if torch.cuda.is_available() else \"cpu\")\n",
    "VOCAB_SIZE = 1201"
   ]
  },
  {
   "attachments": {},
   "cell_type": "markdown",
   "metadata": {},
   "source": [
    "разбивка текста и создание словаря"
   ]
  },
  {
   "cell_type": "code",
   "execution_count": null,
   "metadata": {},
   "outputs": [],
   "source": [
    "import os\n",
    "\n",
    "samples = []\n",
    "for sample in os.listdir('samples'):\n",
    "    with open(\"samples/\" + sample, encoding=\"utf-8\") as text:\n",
    "        samples.append(text.read().lower())\n",
    "\n",
    "\n",
    "class QAPair:\n",
    "    def __init__(self, question, answer):\n",
    "        self.question = question\n",
    "        self.answer = answer\n",
    "\n",
    "dataset = []\n",
    "\n",
    "for sample in samples:\n",
    "    lines = sample.splitlines()\n",
    "    questions = lines[::2]\n",
    "    answers = lines[1::2]\n",
    "    for q, a in zip(questions, answers):\n",
    "        dataset.append(QAPair(q, a))\n"
   ]
  },
  {
   "cell_type": "code",
   "execution_count": null,
   "metadata": {},
   "outputs": [],
   "source": [
    "tdg = tk.TokenDictionaryGenerator(vocabulary_size = VOCAB_SIZE-1)\n",
    "tokens = tdg.generate_tokens(samples)\n",
    "tokenizer = tk.Tokenizer(tokens)\n",
    "tokens.save(\"tokens.json\")"
   ]
  },
  {
   "cell_type": "code",
   "execution_count": null,
   "metadata": {},
   "outputs": [],
   "source": []
  },
  {
   "attachments": {},
   "cell_type": "markdown",
   "metadata": {},
   "source": [
    "создание модели \n",
    "предложение -> hidden\n",
    "последние слово + hidden -> слово(1)...слово(n)"
   ]
  },
  {
   "cell_type": "code",
   "execution_count": null,
   "metadata": {},
   "outputs": [],
   "source": [
    "class RnnTextGen(nn.Module):\n",
    "\n",
    "    def __init__(self,input_size,inp_lstm_size,hid_size,n_layers,out_size,dropout=0.2) -> None:\n",
    "        super(RnnTextGen,self).__init__()\n",
    "        self.input_size = input_size\n",
    "        self.n_layers = n_layers\n",
    "        self.hidden_size=hid_size\n",
    "        self.Encoder = nn.Embedding(input_size,inp_lstm_size)\n",
    "        self.lstm = nn.LSTM(inp_lstm_size,hid_size,n_layers)\n",
    "        self.dropout = nn.Dropout(dropout)\n",
    "        self.l1 = nn.Linear(hid_size,out_size)\n",
    "        \n",
    "    def forward(self,x,hidden=None):\n",
    "        x = self.Encoder(x)\n",
    "        x,hidden = self.lstm(x)\n",
    "        x = self.dropout(x)\n",
    "        x = self.l1(x)\n",
    "        return x,hidden\n",
    "    \n",
    "    def init_hidden(self,batch_size=1):\n",
    "        return (torch.zeros(self.n_layers, batch_size, self.hidden_size, requires_grad=True).to(device),\n",
    "               torch.zeros(self.n_layers, batch_size, self.hidden_size, requires_grad=True).to(device))"
   ]
  },
  {
   "cell_type": "code",
   "execution_count": null,
   "metadata": {},
   "outputs": [],
   "source": [
    "model=RnnTextGen(VOCAB_SIZE,1000,500,2,VOCAB_SIZE).to(device)\n",
    "criterion = nn.CrossEntropyLoss()\n",
    "optimizer = torch.optim.Adam(model.parameters(), lr=1e-2, amsgrad=True)\n",
    "scheduler = torch.optim.lr_scheduler.ReduceLROnPlateau(\n",
    "    optimizer, \n",
    "    patience=5, \n",
    "    verbose=True, \n",
    "    factor=0.5\n",
    ")"
   ]
  },
  {
   "cell_type": "code",
   "execution_count": null,
   "metadata": {},
   "outputs": [],
   "source": [
    "def evaluate(model:RnnTextGen,text:str,prediction_lim:int=15):\n",
    "    text_idx = torch.LongTensor(list(tokenizer.tokenize(text))).to(device)\n",
    "    hidden = model.init_hidden()\n",
    "    inp = text_idx\n",
    "    predicted_text=\"\"\n",
    "    for i in range(prediction_lim):\n",
    "        next_w , hidden = model(inp.view(-1,1).to(device),hidden)\n",
    "        inp = torch.cat([inp,next_w[-1].argmax().view(-1)])\n",
    "        if next_w[-1].argmax() == torch.LongTensor([VOCAB_SIZE-1]).to(device):\n",
    "            break\n",
    "        word = tokens.decode(int(next_w[-1].argmax()))\n",
    "        predicted_text +=word\n",
    "    return predicted_text"
   ]
  },
  {
   "cell_type": "code",
   "execution_count": null,
   "metadata": {},
   "outputs": [],
   "source": [
    "def get_batch(dataset:list):\n",
    "    for qa in dataset:\n",
    "        question_idx = list(tokenizer.tokenize(qa.question))\n",
    "        target = list(tokenizer.tokenize(qa.answer))+[tokens.count()]\n",
    "        test = question_idx+target[:-1]\n",
    "\n",
    "        target =torch.LongTensor(target).to(device)\n",
    "        test = torch.LongTensor(test).to(device)\n",
    "        yield target,test"
   ]
  },
  {
   "cell_type": "code",
   "execution_count": null,
   "metadata": {},
   "outputs": [],
   "source": [
    "def train(epoches:int,model:RnnTextGen,batch_size:int)->None:\n",
    "    \"\"\"epoches - number of epoches through all dataset\n",
    "    model - model required to teach\n",
    "    batch_size - n/a\"\"\"\n",
    "    loss_avg =[]\n",
    "    for epoch in range(epoches):\n",
    "        for target,train in get_batch(dataset):\n",
    "            model.train()\n",
    "\n",
    "            hidden = model.init_hidden(batch_size)\n",
    "\n",
    "            output,hidden = model(train,hidden)\n",
    "            target_len = len(target)\n",
    "            loss = criterion(output[-target_len:],target)\n",
    "\n",
    "            loss.backward()\n",
    "            optimizer.step()\n",
    "            optimizer.zero_grad()\n",
    "\n",
    "            loss_avg.append(loss.item())\n",
    "            if len(loss_avg) >= 50:\n",
    "                mean_loss = np.mean(loss_avg)\n",
    "                print(f'Loss: {mean_loss}')\n",
    "                scheduler.step(mean_loss)\n",
    "                model.eval()\n",
    "                question = random.choice(dataset).question\n",
    "                answer = evaluate(model,question)\n",
    "                print(f\"Question: {question} \\n Answer: {answer}\")\n",
    "                loss_avg = []"
   ]
  },
  {
   "attachments": {},
   "cell_type": "markdown",
   "metadata": {},
   "source": [
    "обучение модели"
   ]
  },
  {
   "cell_type": "code",
   "execution_count": null,
   "metadata": {},
   "outputs": [],
   "source": [
    "train(30, model, 1)"
   ]
  },
  {
   "cell_type": "code",
   "execution_count": null,
   "metadata": {},
   "outputs": [],
   "source": [
    "quest = input().lower()\n",
    "evaluate(model,quest,35)"
   ]
  },
  {
   "cell_type": "code",
   "execution_count": 62,
   "metadata": {},
   "outputs": [],
   "source": [
    "torch.save(model,\"data.pkl\")"
   ]
  },
  {
   "cell_type": "code",
   "execution_count": null,
   "metadata": {},
   "outputs": [],
   "source": [
    "model = torch.load(\"data.pkl\").to(device)"
   ]
  }
 ],
 "metadata": {
  "kernelspec": {
   "display_name": "Python 3",
   "language": "python",
   "name": "python3"
  },
  "language_info": {
   "codemirror_mode": {
    "name": "ipython",
    "version": 3
   },
   "file_extension": ".py",
   "mimetype": "text/x-python",
   "name": "python",
   "nbconvert_exporter": "python",
   "pygments_lexer": "ipython3",
   "version": "3.11.3"
  },
  "orig_nbformat": 4
 },
 "nbformat": 4,
 "nbformat_minor": 2
}
